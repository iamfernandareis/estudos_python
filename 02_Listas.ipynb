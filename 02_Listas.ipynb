{
  "nbformat": 4,
  "nbformat_minor": 0,
  "metadata": {
    "colab": {
      "provenance": [],
      "authorship_tag": "ABX9TyOm4GwpukmhSffOAOzhiGRu",
      "include_colab_link": true
    },
    "kernelspec": {
      "name": "python3",
      "display_name": "Python 3"
    },
    "language_info": {
      "name": "python"
    }
  },
  "cells": [
    {
      "cell_type": "markdown",
      "metadata": {
        "id": "view-in-github",
        "colab_type": "text"
      },
      "source": [
        "<a href=\"https://colab.research.google.com/github/iamfernandareis/estudos_python/blob/main/02_Listas.ipynb\" target=\"_parent\"><img src=\"https://colab.research.google.com/assets/colab-badge.svg\" alt=\"Open In Colab\"/></a>"
      ]
    },
    {
      "cell_type": "code",
      "execution_count": null,
      "metadata": {
        "colab": {
          "base_uri": "https://localhost:8080/"
        },
        "id": "vk3jbvCHjg3L",
        "outputId": "80ebf8bf-2af3-4162-f16d-82c27842b6c8"
      },
      "outputs": [
        {
          "output_type": "stream",
          "name": "stdout",
          "text": [
            "[3, 4, 5, 6]\n"
          ]
        }
      ],
      "source": [
        "# Questão 1 - Crie uma lista com 10 números e imprima os elementos do índice 3 ao 7.\n",
        "lista = [0,1,2,3,4,5,6,7,8,9]\n",
        "print(lista[3:7])"
      ]
    },
    {
      "cell_type": "code",
      "source": [
        "# Questão 2 - Crie uma lista com 10 palavras e imprima a lista pulando de 2 em 2 elementos.\n",
        "lista = ['sofá','televisao','cama','armario','panela','fogao','mesa','cadeira','geladeira','fritadeira']\n",
        "print(lista[0: :3])"
      ],
      "metadata": {
        "colab": {
          "base_uri": "https://localhost:8080/"
        },
        "id": "HM-BpnAnjs6V",
        "outputId": "105045c0-76f6-47d7-b4e4-362e934e271c"
      },
      "execution_count": null,
      "outputs": [
        {
          "output_type": "stream",
          "name": "stdout",
          "text": [
            "['sofá', 'armario', 'mesa', 'fritadeira']\n"
          ]
        }
      ]
    },
    {
      "cell_type": "code",
      "source": [
        "# Questão 3 - Crie uma lista com 8 nomes de frutas e imprima uma nova lista com as frutas a partir da 5ª fruta da lista original.\n",
        "frutas = ['banana','maracuja','coco','melancia','cereja','pessego','laranja','abacaxi','morango']\n",
        "print(frutas[4:])"
      ],
      "metadata": {
        "colab": {
          "base_uri": "https://localhost:8080/"
        },
        "id": "O1Ere3H9j2FH",
        "outputId": "b1a4b78d-d10a-46ba-ca04-daac57917b16"
      },
      "execution_count": null,
      "outputs": [
        {
          "output_type": "stream",
          "name": "stdout",
          "text": [
            "['cereja', 'pessego', 'laranja', 'abacaxi', 'morango']\n"
          ]
        }
      ]
    }
  ]
}