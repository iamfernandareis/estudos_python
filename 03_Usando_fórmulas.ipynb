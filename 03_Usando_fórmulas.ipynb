{
  "nbformat": 4,
  "nbformat_minor": 0,
  "metadata": {
    "colab": {
      "provenance": [],
      "authorship_tag": "ABX9TyNeNYInGTPKxT0tozldGwId",
      "include_colab_link": true
    },
    "kernelspec": {
      "name": "python3",
      "display_name": "Python 3"
    },
    "language_info": {
      "name": "python"
    }
  },
  "cells": [
    {
      "cell_type": "markdown",
      "metadata": {
        "id": "view-in-github",
        "colab_type": "text"
      },
      "source": [
        "<a href=\"https://colab.research.google.com/github/iamfernandareis/estudos_python/blob/main/03_Usando_f%C3%B3rmulas.ipynb\" target=\"_parent\"><img src=\"https://colab.research.google.com/assets/colab-badge.svg\" alt=\"Open In Colab\"/></a>"
      ]
    },
    {
      "cell_type": "code",
      "execution_count": null,
      "metadata": {
        "id": "bzDRj1w0EfKE"
      },
      "outputs": [],
      "source": [
        "''' Questão 1 - Escreva um programa que aceite os comprimentos de três lados de um triângulo como entradas.\n",
        "    A saída do programa deve indicar se o triângulo é ou não um triângulo equilátero.\n",
        "'''\n"
      ]
    },
    {
      "cell_type": "code",
      "source": [
        "\n",
        "lado1 = float(input('Primeiro lado: '))\n",
        "lado2 = float(input('Segundo lado:  '))\n",
        "lado3 = float(input('Terceiro lado: '))\n",
        "\n",
        "if lado1 == lado2 == lado3:\n",
        "  print('É um triângulo Equilátero.')\n",
        "else:\n",
        "  print('Não é um triângulo Equilátero')"
      ],
      "metadata": {
        "colab": {
          "base_uri": "https://localhost:8080/"
        },
        "id": "2YNP9eaqVhD-",
        "outputId": "03fac637-0efc-4171-dd01-ece6b13c6a00"
      },
      "execution_count": null,
      "outputs": [
        {
          "output_type": "stream",
          "name": "stdout",
          "text": [
            "Primeiro lado: 2\n",
            "Segundo lado:  2\n",
            "Terceiro lado: 1\n",
            "Não é um triângulo Equilátero\n"
          ]
        }
      ]
    },
    {
      "cell_type": "code",
      "source": [
        "''' Questão 2 - Escreva um programa que aceite os comprimentos de três lados de um triângulo como entradas.\n",
        "    A saída do programa deve indicar se o triângulo é ou não um triângulo retângulo.\n",
        "    Lembre-se do teorema de Pitágoras que, em um triângulo retângulo, o quadrado de um lado é igual à soma dos quadrados dos outros dois lados.\n",
        "'''\n"
      ],
      "metadata": {
        "id": "ctyB-P3IE3g1"
      },
      "execution_count": null,
      "outputs": []
    },
    {
      "cell_type": "code",
      "source": [
        "hipotenusa = float(input('Digite o lado da hipotenusa:' ))\n",
        "cateto_1 = float(input('Digite o valor do cateto: '))\n",
        "cateto_2 = float(input('Digite o valor do outro lado:' ))\n",
        "\n",
        "if hipotenusa ** 2 == (cateto_1 ** 2) + (cateto_2 ** 2):\n",
        "  print('É um triângulo retângulo')\n",
        "else:\n",
        "  print('Não é um triângulo retângulo')"
      ],
      "metadata": {
        "colab": {
          "base_uri": "https://localhost:8080/"
        },
        "id": "Qhmy2q_RampR",
        "outputId": "cedb84ab-e4bb-4221-e90d-7a1630afddd7"
      },
      "execution_count": null,
      "outputs": [
        {
          "output_type": "stream",
          "name": "stdout",
          "text": [
            "Digite o lado da hipotenusa:10\n",
            "Digite o valor do cateto: 6\n",
            "Digite o valor do outro lado:8\n",
            "É um triângulo retângulo\n"
          ]
        }
      ]
    }
  ]
}