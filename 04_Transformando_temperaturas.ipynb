{
  "nbformat": 4,
  "nbformat_minor": 0,
  "metadata": {
    "colab": {
      "provenance": [],
      "authorship_tag": "ABX9TyNsdK85Y+bOqUXaTr0v7D9x",
      "include_colab_link": true
    },
    "kernelspec": {
      "name": "python3",
      "display_name": "Python 3"
    },
    "language_info": {
      "name": "python"
    }
  },
  "cells": [
    {
      "cell_type": "markdown",
      "metadata": {
        "id": "view-in-github",
        "colab_type": "text"
      },
      "source": [
        "<a href=\"https://colab.research.google.com/github/iamfernandareis/estudos_python/blob/main/04_Transformando_temperaturas.ipynb\" target=\"_parent\"><img src=\"https://colab.research.google.com/assets/colab-badge.svg\" alt=\"Open In Colab\"/></a>"
      ]
    },
    {
      "cell_type": "code",
      "source": [
        "''' O programa deve perguntar ao usuário qual tipo de conversão ele deseja realizar: de Celsius para Fahrenheit ou de Fahrenheit para Celsius.\n",
        "Após a escolha, o programa deve solicitar ao usuário que insira a temperatura a ser convertida.\n",
        "Para converter de Celsius para Fahrenheit, utilize a fórmula: Fahrenheit = (Celsius × 9/5) + 32.\n",
        "Para converter de Fahrenheit para Celsius, utilize a fórmula: Celsius = (Fahrenheit - 32) × 5/9.\n",
        "O resultado da conversão deve ser exibido na tela com uma mensagem apropriada.'''\n",
        "\n",
        "print('Escolha o tipo de conversão:')\n",
        "print('1. Fahrenheit para Celsius\\n2. Celsius para Fahrenheit')\n",
        "escolha = int(input('Escolha 1 ou 2: '))\n",
        "if escolha == 1:\n",
        "  fahrenheit = float(input('Digite a temperatura em Fahrenheit: '))\n",
        "  calc_para_celsius = (fahrenheit - 32) * 5 / 9\n",
        "  print(f'{fahrenheit} graus Fahrenheit é equivalente a {calc_para_celsius:.1f} graus Celsius')\n",
        "else:\n",
        "  celsius = float(input('Digite a temperatura em Celsius: '))\n",
        "  calc_para_fahrenheit = (celsius * 9 / 5) + 32\n",
        "  print(f'{celsius} graus Celsius é equivalente a {calc_para_fahrenheit:.1f} graus Fahrenheit')\n",
        "\n"
      ],
      "metadata": {
        "colab": {
          "base_uri": "https://localhost:8080/"
        },
        "id": "FlZ6efUpTsH9",
        "outputId": "726e500c-3571-4d64-fd39-4ee184179aac"
      },
      "execution_count": null,
      "outputs": [
        {
          "output_type": "stream",
          "name": "stdout",
          "text": [
            "Escolha o tipo de conversão:\n",
            "1. Fahrenheit para Celsius\n",
            "2. Celsius para Fahrenheit\n",
            "Escolha 1 ou 2: 1\n",
            "Digite a temperatura em Fahrenheit: 2\n",
            "2.0 graus Fahrenheit é equivalente a -16.7 graus Celsius\n"
          ]
        }
      ]
    }
  ]
}