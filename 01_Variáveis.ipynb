{
  "nbformat": 4,
  "nbformat_minor": 0,
  "metadata": {
    "colab": {
      "provenance": [],
      "authorship_tag": "ABX9TyPaC0pwOyc2ktqh6Ekf+37A",
      "include_colab_link": true
    },
    "kernelspec": {
      "name": "python3",
      "display_name": "Python 3"
    },
    "language_info": {
      "name": "python"
    }
  },
  "cells": [
    {
      "cell_type": "markdown",
      "metadata": {
        "id": "view-in-github",
        "colab_type": "text"
      },
      "source": [
        "<a href=\"https://colab.research.google.com/github/iamfernandareis/estudos_python/blob/main/01_Vari%C3%A1veis.ipynb\" target=\"_parent\"><img src=\"https://colab.research.google.com/assets/colab-badge.svg\" alt=\"Open In Colab\"/></a>"
      ]
    },
    {
      "cell_type": "code",
      "source": [
        "# Questão 1 - Crie uma variável para armazenar seu nome e imprima seu tipo de dado.\n",
        "nome = input('Informe seu nome completo: ')\n",
        "print(f'Boa Tarde, {nome}')\n",
        "print(type(nome))"
      ],
      "metadata": {
        "colab": {
          "base_uri": "https://localhost:8080/"
        },
        "id": "2HmCGE-nhHUd",
        "outputId": "e4b2441b-24e9-426e-cb96-401d8353fbb6"
      },
      "execution_count": null,
      "outputs": [
        {
          "output_type": "stream",
          "name": "stdout",
          "text": [
            "Informe seu nome completo: Fernanda dos Reis da Conceição\n",
            "Boa Tarde, Fernanda dos Reis da Conceição\n",
            "<class 'str'>\n"
          ]
        }
      ]
    },
    {
      "cell_type": "code",
      "source": [
        "# Questão 2 - Declare duas variáveis, uma com um valor inteiro e outra com um valor float. Imprima o resultado da soma das duas variáveis.\n",
        "num_1 = int(input('Digite um número inteiro: '))\n",
        "num_2 = float(input('Digite outro número: ') )\n",
        "total = num_1 + num_2\n",
        "print(total)"
      ],
      "metadata": {
        "colab": {
          "base_uri": "https://localhost:8080/"
        },
        "id": "X8DkQ_d4hHfu",
        "outputId": "ad76dfcf-8511-44ab-a802-460f4fa5e59b"
      },
      "execution_count": null,
      "outputs": [
        {
          "output_type": "stream",
          "name": "stdout",
          "text": [
            "Digite um número inteiro: 7\n",
            "Digite outro número: 7\n",
            "14.0\n"
          ]
        }
      ]
    },
    {
      "cell_type": "code",
      "source": [
        "# Questão 3 - Verifique se o número 10 é maior que 5 e imprima o resultado da comparação.\n",
        "resultado = 10 > 5\n",
        "print(resultado)"
      ],
      "metadata": {
        "colab": {
          "base_uri": "https://localhost:8080/"
        },
        "id": "-9buSANFtibt",
        "outputId": "a5fef374-9116-4980-adb9-c5cc5daa22b1"
      },
      "execution_count": null,
      "outputs": [
        {
          "output_type": "stream",
          "name": "stdout",
          "text": [
            "True\n"
          ]
        }
      ]
    },
    {
      "cell_type": "code",
      "source": [
        "# Questão 4 - Utilize o operador in para verificar se a letra \"a\" está presente na string \"banana\".\n",
        "fruta = 'banana'\n",
        "print('a'in fruta)"
      ],
      "metadata": {
        "colab": {
          "base_uri": "https://localhost:8080/"
        },
        "id": "jVmhq8javUmF",
        "outputId": "89271ece-6665-4471-95bf-aa4e26de0a05"
      },
      "execution_count": null,
      "outputs": [
        {
          "output_type": "stream",
          "name": "stdout",
          "text": [
            "True\n"
          ]
        }
      ]
    },
    {
      "cell_type": "code",
      "source": [
        "# Questão 5 - Escreva um programa que solicita ao usuário dois números e imprima a soma, a diferença, o produto e o quociente da divisão entre esses números.\n",
        "num_1 = int(input('Digite um número inteiro: '))\n",
        "num_2 = float(input('Digite outro número: ') )\n",
        "\n",
        "soma = num_1 + num_2\n",
        "print(soma)\n",
        "\n",
        "subtracao = num_1 - num_2\n",
        "print(subtracao)\n",
        "\n",
        "multiplicacao = num_1 * num_2\n",
        "print(multiplicacao)\n",
        "\n",
        "divisao = num_1 / num_2\n",
        "print(divisao)"
      ],
      "metadata": {
        "colab": {
          "base_uri": "https://localhost:8080/"
        },
        "id": "Haw4y7ygxsYe",
        "outputId": "6416c62a-6067-4afe-9aa2-765e278ced7b"
      },
      "execution_count": null,
      "outputs": [
        {
          "output_type": "stream",
          "name": "stdout",
          "text": [
            "Digite um número inteiro: 6\n",
            "Digite outro número: 3\n",
            "9.0\n",
            "3.0\n",
            "18.0\n",
            "2.0\n"
          ]
        }
      ]
    }
  ]
}